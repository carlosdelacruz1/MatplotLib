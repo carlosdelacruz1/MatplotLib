import numpy as np
import pandas as pd
import matplotlib.pyplot as plt
import plotly.graph_objects as go

# Generamos datos aleatorios para simular el rendimiento de diferentes estudiantes en exámenes
np.random.seed(42)
num_estudiantes = 50
num_examenes = 5

nombres_estudiantes = [f"Estudiante {i+1}" for i in range(num_estudiantes)]
notas_examenes = np.random.randint(40, 100, size=(num_estudiantes, num_examenes))

# Gráfico 1: Gráfico de barras apiladas para mostrar el rendimiento de cada estudiante en cada examen (Plotly)
promedio_examenes = np.mean(notas_examenes, axis=0)
std_examenes = np.std(notas_examenes, axis=0)

fig = go.Figure(data=[
    go.Bar(x=[f"Examen {i+1}" for i in range(num_examenes)], y=promedio_examenes, name='Promedio', error_y=dict(type='data', array=std_examenes), marker_color='steelblue')
])
fig.update_layout(title='Rendimiento promedio por examen',
                  xaxis_title='Examen',
                  yaxis_title='Nota Promedio',
                  template='plotly_dark')
fig.show()

# Gráfico 2: Gráfico de dispersión para comparar el rendimiento en el primer y último examen (Plotly)
fig = go.Figure(data=go.Scatter(x=notas_examenes[:, 0], y=notas_examenes[:, -1], mode='markers', marker=dict(size=10, color='green')))
fig.update_layout(title='Comparación de notas entre el primer y último examen',
                  xaxis_title='Nota en el Primer Examen',
                  yaxis_title='Nota en el Último Examen',
                  template='plotly_dark')
fig.show()

# Gráfico 3: Gráfico de caja y bigotes para mostrar la distribución de notas en cada examen (Plotly)
df_notas_examenes = pd.DataFrame(notas_examenes, columns=[f"Examen {i+1}" for i in range(num_examenes)])
fig = go.Figure()
for col in df_notas_examenes.columns:
    fig.add_trace(go.Box(y=df_notas_examenes[col], name=col, boxpoints='outliers'))
fig.update_layout(title='Distribución de notas en cada examen',
                  xaxis_title='Examen',
                  yaxis_title='Nota',
                  template='plotly_dark')
fig.show()

# Gráfico 4: Histograma para visualizar la distribución general de notas en todos los exámenes (Plotly)
notas_todas_examenes = notas_examenes.flatten()
fig = go.Figure(data=[go.Histogram(x=notas_todas_examenes, nbinsx=20, marker_color='orange')])
fig.update_layout(title='Distribución de notas en todos los exámenes',
                  xaxis_title='Nota',
                  yaxis_title='Frecuencia',
                  template='plotly_dark')
fig.show()

# Gráfico 5: Gráfico de pastel para mostrar la proporción de estudiantes con calificaciones aprobatorias (Plotly)
aprobatorias = np.sum(notas_examenes >= 60, axis=1)
reprobatorias = num_examenes - aprobatorias

fig = go.Figure(data=[go.Pie(labels=['Aprobados', 'Reprobados'], values=[np.sum(aprobatorias), np.sum(reprobatorias)], hole=0.3, marker=dict(colors=['lightblue', 'lightcoral']))])
fig.update_layout(title='Proporción de estudiantes aprobados y reprobados',
                  template='plotly_dark')
fig.show()
